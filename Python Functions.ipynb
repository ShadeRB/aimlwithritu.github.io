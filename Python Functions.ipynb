{
 "cells": [
  {
   "cell_type": "code",
   "execution_count": 4,
   "id": "88a9fbb3",
   "metadata": {},
   "outputs": [
    {
     "name": "stdout",
     "output_type": "stream",
     "text": [
      "90\n"
     ]
    }
   ],
   "source": [
    "#Python function to find the maximum of three numbers:\n",
    "def max_of_three(a,b,c):\n",
    "    return max (a,b,c)\n",
    "print (max_of_three(10,5,90))\n"
   ]
  },
  {
   "cell_type": "code",
   "execution_count": 1,
   "id": "5e2f9c1b",
   "metadata": {},
   "outputs": [
    {
     "name": "stdout",
     "output_type": "stream",
     "text": [
      "dcba4321\n"
     ]
    }
   ],
   "source": [
    "def reverse_string(s):\n",
    "    return s[::-1]\n",
    "# Example\n",
    "sample = \"1234abcd\"\n",
    "print(reverse_string(sample))  # Output: \"dcba4321\"\n"
   ]
  },
  {
   "cell_type": "code",
   "execution_count": 5,
   "id": "32b758c2",
   "metadata": {},
   "outputs": [
    {
     "name": "stdout",
     "output_type": "stream",
     "text": [
      "-336\n"
     ]
    }
   ],
   "source": [
    "#Here’s a Python function to multiply all the numbers in a list:\n",
    "\n",
    "\n",
    "def multiply_list(numbers):\n",
    "    result = 1\n",
    "    for num in numbers:\n",
    "        result *= num\n",
    "    return result\n",
    "\n",
    "# Example\n",
    "sample_list = [8, 2, 3, -1, 7]\n",
    "print(multiply_list(sample_list)) "
   ]
  },
  {
   "cell_type": "code",
   "execution_count": null,
   "id": "14ee7d62",
   "metadata": {},
   "outputs": [],
   "source": []
  },
  {
   "cell_type": "code",
   "execution_count": null,
   "id": "87b00bb6",
   "metadata": {},
   "outputs": [
    {
     "name": "stdout",
     "output_type": "stream",
     "text": [
      "utir3241\n"
     ]
    }
   ],
   "source": [
    "def reverse_string(s):\n",
    "    reversed_s = s[::-1]  # It starts from the last character and moves one step back at a time.\n",
    "    return reversed_s     # This gives back the reversed string\n",
    "\n",
    "# Try it\n",
    "sample = \"1423ritu\"\n",
    "result = reverse_string(sample)\n",
    "print(result)  # This will print: dcba4321"
   ]
  },
  {
   "cell_type": "code",
   "execution_count": 15,
   "id": "6d800af9",
   "metadata": {},
   "outputs": [
    {
     "name": "stdout",
     "output_type": "stream",
     "text": [
      "9929uiseay\n"
     ]
    }
   ],
   "source": [
    "def reverse_string(s):\n",
    "    reversed_s = s[::-2]  # s[::-2] — reverse, skip every second character:\n",
    "    return reversed_s  \n",
    "sample= \"mynameisritu19921989\"\n",
    "result = reverse_string(sample)\n",
    "print(result)  # This will print: dcba4321"
   ]
  },
  {
   "cell_type": "code",
   "execution_count": 16,
   "id": "c52199d8",
   "metadata": {},
   "outputs": [
    {
     "name": "stdout",
     "output_type": "stream",
     "text": [
      "20\n"
     ]
    }
   ],
   "source": [
    "#Here's a Python function to sum all the numbers in a list:\n",
    "\n",
    "def sum_list(numbers):\n",
    "    total = 0\n",
    "    for num in numbers:\n",
    "        total += num\n",
    "    return total\n",
    "\n",
    "# Example\n",
    "sample_list = [8, 2, 3, 0, 7]\n",
    "print(sum_list(sample_list))  # Output: 20\n"
   ]
  },
  {
   "cell_type": "code",
   "execution_count": 17,
   "id": "dc099809",
   "metadata": {},
   "outputs": [
    {
     "name": "stdout",
     "output_type": "stream",
     "text": [
      "True\n",
      "False\n"
     ]
    }
   ],
   "source": [
    "# Check if a number is in a given range:\n",
    "def is_in_range(number, start, end):\n",
    "    return start <= number <= end\n",
    "\n",
    "# Try it\n",
    "print(is_in_range(5, 1, 10))   # Output: True\n",
    "print(is_in_range(15, 1, 10))  # Output: False\n"
   ]
  },
  {
   "cell_type": "code",
   "execution_count": 18,
   "id": "ed1d3480",
   "metadata": {},
   "outputs": [
    {
     "name": "stdout",
     "output_type": "stream",
     "text": [
      "No. of Upper case characters: 3\n",
      "No. of Lower case Characters: 12\n"
     ]
    }
   ],
   "source": [
    "#. Count upper and lower case letters in a string:\n",
    "def count_case_letters(text):\n",
    "    upper_count = 0\n",
    "    lower_count = 0\n",
    "\n",
    "    for char in text:\n",
    "        if char.isupper():\n",
    "            upper_count += 1\n",
    "        elif char.islower():\n",
    "            lower_count += 1\n",
    "\n",
    "    print(\"No. of Upper case characters:\", upper_count)\n",
    "    print(\"No. of Lower case Characters:\", lower_count)\n",
    "\n",
    "# Example\n",
    "sample_text = 'The quick Brow Fox'\n",
    "count_case_letters(sample_text)"
   ]
  },
  {
   "cell_type": "code",
   "execution_count": 22,
   "id": "5949732d",
   "metadata": {},
   "outputs": [
    {
     "name": "stdout",
     "output_type": "stream",
     "text": [
      "[1, 2, 3, 4, 5]\n"
     ]
    }
   ],
   "source": [
    " # Write a Python function that takes a list and returns a new list with unique elements of the first list.\n",
    " # Sample List : [1,2,3,3,3,3,4,5]\n",
    " # Unique List : [1, 2, 3, 4, 5]\n",
    "\n",
    " def get_unique_elements(input_list):\n",
    "    unique_set = set(input_list)\n",
    "    unique_list = list(unique_set)\n",
    "    return unique_list\n",
    "sample = [1,2,3,3,3,3,4,5]\n",
    "print(get_unique_elements(sample))\n",
    "\n"
   ]
  },
  {
   "cell_type": "code",
   "execution_count": 23,
   "id": "67a5a27d",
   "metadata": {},
   "outputs": [
    {
     "name": "stdout",
     "output_type": "stream",
     "text": [
      "True\n",
      "False\n"
     ]
    }
   ],
   "source": [
    "# Write a Python function that takes a number as a parameter\n",
    "def is_prime(number):\n",
    "    if number <= 1:\n",
    "        return False\n",
    "\n",
    "    for i in range(2, number):\n",
    "        if number % i == 0:\n",
    "            return False\n",
    "\n",
    "    return True\n",
    "\n",
    "# Try it\n",
    "print(is_prime(7))   # Output: True\n",
    "print(is_prime(10))  # Output: False\n"
   ]
  },
  {
   "cell_type": "code",
   "execution_count": 25,
   "id": "e303083e",
   "metadata": {},
   "outputs": [
    {
     "name": "stdout",
     "output_type": "stream",
     "text": [
      "True\n",
      "False\n"
     ]
    }
   ],
   "source": [
    "#Check if a number is prime\n",
    "def is_prime(number):\n",
    "    if number <= 1:\n",
    "        return False\n",
    "\n",
    "    for i in range(2, number):\n",
    "        if number % i == 0:\n",
    "            return False\n",
    "\n",
    "    return True\n",
    "\n",
    "# Try it\n",
    "print(is_prime(7))   # True\n",
    "print(is_prime(10))  # False"
   ]
  },
  {
   "cell_type": "code",
   "execution_count": 27,
   "id": "81532cd6",
   "metadata": {},
   "outputs": [
    {
     "name": "stdout",
     "output_type": "stream",
     "text": [
      "[2, 4, 6, 8]\n"
     ]
    }
   ],
   "source": [
    "#Print even numbers from a given list\n",
    "def get_even_numbers(input_list):\n",
    "    even_list = []\n",
    "    for num in input_list:\n",
    "        if num % 2 == 0:\n",
    "            even_list.append(num)\n",
    "    return even_list\n",
    "\n",
    "# Try it\n",
    "sample = [1, 2, 3, 4, 5, 6, 7, 8, 9]\n",
    "print(get_even_numbers(sample))  # Output: [2, 4, 6, 8]\n",
    "\n"
   ]
  },
  {
   "cell_type": "markdown",
   "id": "2a2703a8",
   "metadata": {},
   "source": [
    " Write a Python function that prints out the first n rows\n",
    " of Pascal's triangle.\n",
    " Note : Pascal's triangle is an arithmetic and geometric\n",
    " figure first imagined by Blaise Pascal.\n",
    " Sample Pascal's triangle :\n",
    " Each number is the two numbers above it added together\n",
    "\n",
    "Input: N = 5\n",
    "Output:\n",
    "      1\n",
    "     1 1\n",
    "    1 2 1\n",
    "   1 3 3 1\n",
    "  1 4 6 4 1\n"
   ]
  },
  {
   "cell_type": "code",
   "execution_count": 28,
   "id": "df9d88db",
   "metadata": {},
   "outputs": [
    {
     "name": "stdout",
     "output_type": "stream",
     "text": [
      "      1 \n",
      "     1 1 \n",
      "    1 2 1 \n",
      "   1 3 3 1 \n",
      "  1 4 6 4 1 \n"
     ]
    }
   ],
   "source": [
    "# Print Pascal's Triangle in Python\n",
    "from math import factorial\n",
    "\n",
    "# input n\n",
    "n = 5\n",
    "for i in range(n):\n",
    "    for j in range(n-i+1):\n",
    "\n",
    "        # for left spacing\n",
    "        print(end=\" \")\n",
    "\n",
    "    for j in range(i+1):\n",
    "\n",
    "        # nCr = n!/((n-r)!*r!)\n",
    "        print(factorial(i)//(factorial(j)*factorial(i-j)), end=\" \")\n",
    "\n",
    "    # for new line\n",
    "    print()"
   ]
  },
  {
   "cell_type": "code",
   "execution_count": 29,
   "id": "951491a8",
   "metadata": {},
   "outputs": [
    {
     "name": "stdout",
     "output_type": "stream",
     "text": [
      "[1, 4, 9, 16, 25, 36, 49, 64, 81, 100, 121, 144, 169, 196, 225, 256, 289, 324, 361, 400, 441, 484, 529, 576, 625, 676, 729, 784, 841, 900]\n"
     ]
    }
   ],
   "source": [
    "#Write a Python function to create and print a list where the values are square of numbers between 1 and 30 (both included).\n",
    " \n",
    "def print_squares():\n",
    "    squares = []\n",
    "    for i in range(1, 31):\n",
    "        squares.append(i ** 2)\n",
    "    print(squares)\n",
    "\n",
    "# Call the function\n",
    "print_squares()\n"
   ]
  },
  {
   "cell_type": "code",
   "execution_count": null,
   "id": "48632e9e",
   "metadata": {},
   "outputs": [
    {
     "name": "stdout",
     "output_type": "stream",
     "text": [
      "<b><i><u>Hello, World!</u></i></b>\n"
     ]
    }
   ],
   "source": [
    "# Write a Python program to make a chain of function  decorators (bold, italic, underline etc.) in Python.\n",
    "def bold(func):\n",
    "    def wrapper():\n",
    "        return \"<b>\" + func() + \"</b>\"\n",
    "    return wrapper\n",
    "\n",
    "def italic(func):\n",
    "    def wrapper():\n",
    "        return \"<i>\" + func() + \"</i>\"\n",
    "    return wrapper\n",
    "\n",
    "def underline(func):\n",
    "    def wrapper():\n",
    "        return \"<u>\" + func() + \"</u>\"\n",
    "    return wrapper\n",
    "\n",
    "@bold\n",
    "@italic\n",
    "@underline\n",
    "\n",
    "def get_text():\n",
    "    return \"Hello, World!\"\n",
    "\n",
    "print(get_text())\n"
   ]
  },
  {
   "cell_type": "code",
   "execution_count": null,
   "id": "2dc43818",
   "metadata": {},
   "outputs": [
    {
     "name": "stdout",
     "output_type": "stream",
     "text": [
      "True\n"
     ]
    }
   ],
   "source": [
    "#Check if a string is a pangram\n",
    "\n",
    "\n",
    "import string  # Step 1: Import the string module to get all alphabets\n",
    "\n",
    "def is_pangram(sentence):\n",
    "    alphabet_set = set(string.ascii_lowercase)  # Step 2: Get all lowercase letters\n",
    "    sentence_set = set(sentence.lower())         # Step 3: Convert sentence to lowercase and make it a set\n",
    "    return alphabet_set.issubset(sentence_set)   # Step 4: Check if all letters are in the sentence\n",
    "\n",
    "# Example usage:\n",
    "print(is_pangram(\"The quick brown fox jumps over the lazy dog\"))  # Output: True\n"
   ]
  },
  {
   "cell_type": "code",
   "execution_count": 36,
   "id": "0f4a809a",
   "metadata": {},
   "outputs": [
    {
     "name": "stdout",
     "output_type": "stream",
     "text": [
      "black-green-red-white-yellow\n"
     ]
    }
   ],
   "source": [
    "#Sort hyphen-separated words alphabetically\n",
    "def sort_hyphen_words(input_string):\n",
    "    words = input_string.split('-')        # Step 1: Split the string into words using hyphen\n",
    "    words.sort()                           # Step 2: Sort the list alphabetically\n",
    "    return '-'.join(words)                 # Step 3: Join the sorted words with hyphen again\n",
    "\n",
    "# Example usage:\n",
    "print(sort_hyphen_words(\"green-red-yellow-black-white\"))\n",
    "# Output: black-green-red-white-yellow\n"
   ]
  },
  {
   "cell_type": "markdown",
   "id": "4e1f657f",
   "metadata": {},
   "source": [
    "Write a Python function to check whether a number is\n",
    " perfect or not.\n",
    " According to Wikipedia : In number theory, a perfect number\n",
    " is a positive integer that is equal to the sum of its proper\n",
    " positive divisors, that is, the sum of its positive divisors\n",
    " excluding the number itself (also known as its aliquot sum).\n",
    " Equivalently, a perfect number is a number that is half the\n",
    " sum of all of its positive divisors (including itself).\n",
    " Example : The first perfect number is 6, because 1, 2, and 3\n",
    " are its proper positive divisors, and 1 + 2 + 3 = 6.\n",
    " Equivalently, the number 6 is equal to half the sum of all\n",
    "its positive divisors: ( 1 + 2 + 3 + 6 ) / 2 = 6. The next\n",
    " perfect number is 28 = 1 + 2 + 4 + 7 + 14. This is followed\n",
    " by the perfect numbers 496 and 8128."
   ]
  },
  {
   "cell_type": "code",
   "execution_count": 24,
   "id": "361a707b",
   "metadata": {},
   "outputs": [
    {
     "name": "stdout",
     "output_type": "stream",
     "text": [
      "True\n",
      "True\n",
      "False\n"
     ]
    }
   ],
   "source": [
    "def is_perfect_number(number):\n",
    "    if number <= 0:\n",
    "        return False\n",
    "\n",
    "    sum_of_divisors = 0\n",
    "    for i in range(1, number):\n",
    "        if number % i == 0:\n",
    "            sum_of_divisors += i\n",
    "\n",
    "    return sum_of_divisors == number\n",
    "print(is_perfect_number(6))     # True\n",
    "print(is_perfect_number(28))    # True\n",
    "print(is_perfect_number(12))    # False\n"
   ]
  },
  {
   "cell_type": "code",
   "execution_count": 1,
   "id": "7f59001d",
   "metadata": {},
   "outputs": [
    {
     "name": "stdout",
     "output_type": "stream",
     "text": [
      "Hello from a string of code!\n"
     ]
    }
   ],
   "source": [
    " # Execute a string containing Python code\n",
    "\n",
    "code_string = \"print('Hello from a string of code!')\"  # This is a string that contains Python code\n",
    "exec(code_string)  # The exec() function executes the string as if it's Python code"
   ]
  },
  {
   "cell_type": "code",
   "execution_count": 2,
   "id": "38b9b72f",
   "metadata": {},
   "outputs": [
    {
     "name": "stdout",
     "output_type": "stream",
     "text": [
      "I am the outer function.\n",
      "I am the inner function.\n"
     ]
    }
   ],
   "source": [
    " #Access a function inside another function\n",
    "\n",
    "def outer_function():  # Define the outer function\n",
    "    print(\"I am the outer function.\")  # Message from outer function\n",
    "\n",
    "    def inner_function():  # Define the inner function inside outer\n",
    "        print(\"I am the inner function.\")  # Message from inner function\n",
    "\n",
    "    inner_function()  # Call the inner function from within the outer function\n",
    "\n",
    "outer_function()  # Call the outer function, which will also call the inner"
   ]
  },
  {
   "cell_type": "code",
   "execution_count": 6,
   "id": "51970ce4",
   "metadata": {},
   "outputs": [
    {
     "name": "stdout",
     "output_type": "stream",
     "text": [
      "Inside function:\n",
      "Local variables (name & value): {'a': 10, 'b': 20, 'c': 30}\n",
      "Number of local variables (inside): 3\n",
      "\n",
      " Outside function:\n",
      "Number of local variables (outside): 3\n"
     ]
    }
   ],
   "source": [
    "#Detect number of local variables in a function\n",
    "\n",
    "def sample_function():\n",
    "    a = 10\n",
    "    b = 20\n",
    "    c = a + b\n",
    "\n",
    "    # Inside the function: using locals()\n",
    "    print(\"Inside function:\")\n",
    "    print(\"Local variables (name & value):\", locals())  # Dictionary of local vars\n",
    "    print(\"Number of local variables (inside):\", len(locals()))  # Count of local vars\n",
    "\n",
    "    return c\n",
    "\n",
    "# Call the function\n",
    "sample_function()\n",
    "\n",
    "# Outside the function: using __code__.co_nlocals\n",
    "print(\"\\n Outside function:\")\n",
    "print(\"Number of local variables (outside):\", sample_function.__code__.co_nlocals)\n"
   ]
  }
 ],
 "metadata": {
  "kernelspec": {
   "display_name": "myenv",
   "language": "python",
   "name": "python3"
  },
  "language_info": {
   "codemirror_mode": {
    "name": "ipython",
    "version": 3
   },
   "file_extension": ".py",
   "mimetype": "text/x-python",
   "name": "python",
   "nbconvert_exporter": "python",
   "pygments_lexer": "ipython3",
   "version": "3.10.16"
  }
 },
 "nbformat": 4,
 "nbformat_minor": 5
}
