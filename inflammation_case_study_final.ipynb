{
 "cells": [
  {
   "cell_type": "markdown",
   "id": "13e5fd92",
   "metadata": {},
   "source": [
    "# Case Study: Detecting Data Quality Issues in Inflammation Records\n",
    "\n",
    "This project analyzes a series of CSV files containing inflammation data to detect potential data quality problems.\n",
    "We use basic statistical summaries and helper functions to identify issues like the presence of zeros or inconsistencies.\n",
    "\n",
    "---\n"
   ]
  },
  {
   "cell_type": "markdown",
   "metadata": {
    "id": "JhJAJb1m-nkn"
   },
   "source": [
    "## 1. Reading and Displaying Data from the First File\n",
    "\n",
    "With the list of the relevant `inflammation_xx.csv` file paths above, A  program to read the `inflammation_xx.csv` files, and display the contents of the first file in this list.\n",
    "\n"
   ]
  },
  {
   "cell_type": "code",
   "execution_count": null,
   "metadata": {},
   "outputs": [],
   "source": [
    "all_paths = [\n",
    "  \"python/05_src/data/assignment_2_data/inflammation_01.csv\",\n",
    "  \"python/05_src/data/assignment_2_data/inflammation_02.csv\",\n",
    "  \"python/05_src/data/assignment_2_data/inflammation_03.csv\",\n",
    "  \"python/05_src/data/assignment_2_data/inflammation_04.csv\",\n",
    "  \"python/05_src/data/assignment_2_data/inflammation_05.csv\",\n",
    "  \"python/05_src/data/assignment_2_data/inflammation_06.csv\",\n",
    "  \"python/05_src/data/assignment_2_data/inflammation_07.csv\",\n",
    "  \"python/05_src/data/assignment_2_data/inflammation_08.csv\",\n",
    "  \"python/05_src/data/assignment_2_data/inflammation_09.csv\",\n",
    "  \"python/05_src/data/assignment_2_data/inflammation_10.csv\",\n",
    "  \"python/05_src/data/assignment_2_data/inflammation_11.csv\",\n",
    "  \"python/05_src/data/assignment_2_data/inflammation_12.csv\"\n",
    "]\n",
    "\n",
    "with open(all_paths[0], 'r') as f:\n",
    "    lines = f.readlines()  # Step 1: Read all lines\n",
    "    for line in lines:     # Step 2: Loop through each line\n",
    "        print(line.strip())  # Print without newline character\n"
   ]
  },
  {
   "cell_type": "markdown",
   "metadata": {
    "id": "sacozX7oB1VP"
   },
   "source": [
    "## 2. Data Summarization Function: `patient_summary`\n",
    "\n",
    "This function computes summary statistics (mean, max, or min) for each patient based on their 40-day inflammation data.\n",
    "\n",
    "### Function Overview:\n",
    "- **Input**: Path to a CSV file containing 60 rows (patients) and 40 columns (days), and the type of operation ('mean', 'max', or 'min').\n",
    "- **Process**: Reads the data and applies the requested summary statistic across each patient's 40-day period.\n",
    "- **Output**: A NumPy array with one summary value per patient (60 values total).\n",
    "\n",
    "This approach helps identify trends or anomalies in patient inflammation patterns.\n"
   ]
  },
  {
   "cell_type": "code",
   "execution_count": 14,
   "metadata": {
    "id": "82-bk4CBB1w4"
   },
   "outputs": [
    {
     "name": "stdout",
     "output_type": "stream",
     "text": [
      "[5.45  5.425 6.1   5.9   5.55 ]\n",
      "[5.45  5.425]\n",
      "[15. 15. 18. 18. 19. 18. 17.]\n",
      "[15. 15. 18. 18. 19. 18. 17. 14. 14. 18. 15.]\n"
     ]
    }
   ],
   "source": [
    "import numpy as np  # Import the NumPy library and give it the alias 'np'\n",
    "\n",
    "def patient_summary(file_path, operation):\n",
    "    data = np.loadtxt(fname=file_path, delimiter=',')  # Load the data from the file\n",
    "    ax = 1  # This specifies ax (short for axis) tells NumPy to apply the operation across columns, i.e., calculate one result per row (patient).\n",
    "    # Implement the specific operation based on the 'operation' argument\n",
    "    if operation == 'mean':\n",
    "        # YOUR CODE HERE: Calculate the mean (average) number of flare-ups for each patient\n",
    "        summary_values = np.mean(data, axis=ax)\n",
    "\n",
    "    elif operation == 'max':\n",
    "        # YOUR CODE HERE: Calculate the maximum number of flare-ups experienced by each patient\n",
    "        summary_values = np.max(data, axis=ax)\n",
    "\n",
    "    elif operation == 'min':\n",
    "        # YOUR CODE HERE: Calculate the minimum number of flare-ups experienced by each patient\n",
    "        summary_values = np.min(data, axis=ax)\n",
    "\n",
    "    else:\n",
    "        # If the operation is not one of the expected values, raise an error\n",
    "        raise ValueError(\"Invalid operation. Please choose 'mean', 'max', or 'min'.\")\n",
    "\n",
    "    return summary_values\n",
    "result_mean = patient_summary(\"C:/Users/RituparnaB/Downloads/python/05_src/data/assignment_2_data/inflammation_01.csv\", \"mean\")\n",
    "result_min = patient_summary(\"C:/Users/RituparnaB/Downloads/python/05_src/data/assignment_2_data/inflammation_02.csv\", \"max\")\n",
    "\n",
    "print(result_mean[:5]) \n",
    "print(result_mean[:2]) \n",
    "print(result_min [:7]) \n",
    "print(result_min [:11]) "
   ]
  },
  {
   "cell_type": "code",
   "execution_count": 15,
   "metadata": {
    "id": "3TYo0-1SDLrd"
   },
   "outputs": [
    {
     "name": "stdout",
     "output_type": "stream",
     "text": [
      "60\n"
     ]
    }
   ],
   "source": [
    "# Test it out on the data file we read in and make sure the size is what we expect i.e., 60\n",
    "# Your output for the first file should be 60\n",
    "data_min = patient_summary(all_paths[0], 'min')\n",
    "print(len(data_min))\n",
    "\n"
   ]
  },
  {
   "cell_type": "markdown",
   "metadata": {
    "id": "I-5m0RvxFx4J"
   },
   "source": [
    "## 2. Data Summarization Function: `patient_summary`\n",
    "\n",
    "This function computes summary statistics (mean, max, or min) for each patient based on their 40-day inflammation data.\n",
    "\n",
    "### Function Overview:\n",
    "- **Input**: Path to a CSV file containing 60 rows (patients) and 40 columns (days), and the type of operation ('mean', 'max', or 'min').\n",
    "- **Process**: Reads the data and applies the requested summary statistic across each patient's 40-day period.\n",
    "- **Output**: A NumPy array with one summary value per patient (60 values total).\n",
    "\n",
    "This approach helps identify trends or anomalies in patient inflammation patterns.\n"
   ]
  },
  {
   "cell_type": "markdown",
   "metadata": {
    "id": "pb9EugDCJA4c"
   },
   "source": [
    "**Understanding the `check_zeros(x)` Helper Function**\n",
    "\n",
    "The `check_zeros(x)` function is provided as a tool to assist with  data analysis. While we do not need to modify or fully understand the internal workings of this function, it's important to grasp its input, output, and what the output signifies:\n",
    "\n",
    "1. **Input**:\n",
    "   - **Parameter `x`**: This function takes an array of numbers as its input. In the context of my assignment, this array will typically represent a set of data points from my patient data, such as mean inflammation scores.\n",
    "\n",
    "2. **Output**:\n",
    "   - The function returns a boolean value: either `True` or `False`.\n",
    "\n",
    "3. **Interpreting the Output**:\n",
    "   - **Output is `True`**: This indicates that the array `x` contains at least one zero value. In the context of my analysis, this means that at least one patient has a mean inflammation score of 0, signaling a potential issue or anomaly in the data.\n",
    "   - **Output is `False`**: This signifies that there are no zero values in the array `x`. For my patient data, it means no patient has a mean inflammation score of 0, and thus no apparent anomalies of this type were detected.\n",
    "\n",
    "**Usage in my Analysis**:\n",
    "When using `check_zeros(x)` in conjunction with  `patient_summary()` function in the `detect_problems()` function, we'll be checking whether any patient in the dataset has an average (mean) inflammation score of 0."
   ]
  },
  {
   "cell_type": "code",
   "execution_count": null,
   "metadata": {
    "id": "_svDiRkdIwiT"
   },
   "outputs": [],
   "source": [
    "# Run this cell so we can use this helper function\n",
    "\n",
    "def check_zeros(x):\n",
    "    '''\n",
    "    Given an array, x, check whether any values in x equal 0.\n",
    "    Return True if any values found, else returns False.\n",
    "    '''\n",
    "    # np.where() checks every value in x against the condition (x == 0) and returns a tuple of indices where it was True (i.e. x was 0)\n",
    "    flag = np.where(x == 0)[0]\n",
    "\n",
    "    # Checks if there are any objects in flag (i.e. not empty)\n",
    "    # If not empty, it found at least one zero so flag is True, and vice-versa.\n",
    "    return len(flag) > 0"
   ]
  },
  {
   "cell_type": "code",
   "execution_count": null,
   "metadata": {
    "id": "LEYPM5v4JT0i"
   },
   "outputs": [],
   "source": [
    "def detect_problems(file_path):\n",
    "    # patient_summary() to get the means and check_zeros() to check for zeros in the means\n",
    "    patient_means = patient_summary(file_path, 'mean')  # Get mean inflammation values\n",
    "    has_problem = check_zeros(patient_means)            # Check if any mean is zero\n",
    "    return has_problem\n"
   ]
  },
  {
   "cell_type": "code",
   "execution_count": null,
   "metadata": {},
   "outputs": [
    {
     "name": "stdout",
     "output_type": "stream",
     "text": [
      "False\n"
     ]
    }
   ],
   "source": [
    "# Test out code here\n",
    "# output for the first file should be False\n",
    "print(detect_problems(all_paths[0]))"
   ]
  },
  {
   "cell_type": "markdown",
   "metadata": {
    "id": "j9SUzhiGuHhS"
   },
   "source": [
    "| Criteria                     | Complete Criteria                                                                                                                                                                 | Incomplete Criteria                                                                                                         |\n",
    "|------------------------------|-------------------------------------------------------------------------------------------------------------------------------------------------------------------------------|-----------------------------------------------------------------------------------------------------------------------|\n",
    "| **General Criteria**         |                                                                                                                                                                               |                                                                                                                       |\n",
    "| Code Execution               | All code cells execute without errors.                                                                                                                                        | Any code cell produces an error upon execution.                                                                      |\n",
    "| Code Quality                 | Code is well-organized, concise, and includes necessary comments for clarity.                                                                                                 | Code is unorganized, verbose, or lacks necessary comments.                                                            |\n",
    "| Data Handling                | Data files are correctly handled and processed.                                                                                                                               | Data files are not handled or processed correctly.                                                                    |\n",
    "| Adherence to Instructions    | Follows all instructions and requirements as per the assignment.                                                                                                              | Misses or incorrectly implements one or more of the assignment requirements.                                         |\n",
    "| **Specific Criteria**        |                                                                                                                                                                               |                                                                                                                       |\n",
    "| 1. Reading in our files | Correctly prints out information from the first file.                                                  | Fails to print out information from the first file.                              |\n",
    "| 2. Summarizing our data | Correctly defines `patient_summary()` function. Function processes data as per `operation` and outputs correctly shaped data (60 entries).                                   | Incomplete or incorrect definition of `patient_summary()`. Incorrect implementation of operation or wrong output shape.|\n",
    "| 3. Checking for Errors  | Correctly defines `detect_problems()` function. Function uses `patient_summary()` and `check_zeros()` to identify mean inflammation of 0 accurately.                        | Incorrect definition or implementation of `detect_problems()` function. Fails to accurately identify mean inflammation of 0.|\n",
    "| **Overall Assessment**       | Meets all the general and specific criteria, indicating a strong understanding of the assignment objectives.                                                                  | Fails to meet one or more of the general or specific criteria, indicating a need for further learning or clarification.|\n"
   ]
  },
  {
   "cell_type": "markdown",
   "metadata": {
    "id": "TY_ppBzHvdak"
   },
   "source": [
    "## References\n",
    "\n",
    "### Data Sources\n",
    "- Software Carpentry. _Python Novice Inflammation Data_. http://swcarpentry.github.io/python-novice-inflammation/data/python-novice-inflammation-data.zip\n"
   ]
  }
 ],
 "metadata": {
  "colab": {
   "provenance": []
  },
  "kernelspec": {
   "display_name": "myenv",
   "language": "python",
   "name": "python3"
  },
  "language_info": {
   "codemirror_mode": {
    "name": "ipython",
    "version": 3
   },
   "file_extension": ".py",
   "mimetype": "text/x-python",
   "name": "python",
   "nbconvert_exporter": "python",
   "pygments_lexer": "ipython3",
   "version": "3.10.16"
  }
 },
 "nbformat": 4,
 "nbformat_minor": 0
}
