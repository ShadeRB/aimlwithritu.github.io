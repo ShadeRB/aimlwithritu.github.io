{
 "cells": [
  {
   "cell_type": "markdown",
   "id": "c64f9ba1",
   "metadata": {},
   "source": [
    "Using TensorFlow to Train a Simple Model\n",
    "\n",
    "Use Case: Handwritten Digit Recognition (Mini MNIST Classifier)\n",
    "📌 Objective: Build and test a basic neural network that can recognize handwritten digits (0–9) from images using a small subset of the MNIST dataset.\n",
    "\n",
    "This is a basic neural network classifier for recognizing handwritten digits. It's useful for:\n",
    "\n",
    "Learning how neural networks work\n",
    "\n",
    "Practicing model design and training\n",
    "\n",
    "Quick prototyping with small datasets"
   ]
  },
  {
   "cell_type": "markdown",
   "id": "2b90c0e6",
   "metadata": {},
   "source": [
    "📝 1. Disable GPU\n",
    "This forces TensorFlow to use the CPU.\n",
    "Why? For environments where GPU isn't supported or to test CPU-only performance."
   ]
  },
  {
   "cell_type": "code",
   "execution_count": 26,
   "id": "c38b8ca1",
   "metadata": {},
   "outputs": [],
   "source": [
    "import os\n",
    "os.environ[\"CUDA_VISIBLE_DEVICES\"] = \"-1\"\n",
    "\n"
   ]
  },
  {
   "cell_type": "code",
   "execution_count": 27,
   "id": "b5c95867",
   "metadata": {},
   "outputs": [
    {
     "name": "stdout",
     "output_type": "stream",
     "text": [
      "2.18.1\n"
     ]
    }
   ],
   "source": [
    "# Import Libraries\n",
    "# #We need TensorFlow and Keras to build and train neural networks.\n",
    "import tensorflow as tf\n",
    "from tensorflow import keras\n",
    "from tensorflow.keras import layers\n",
    "print(tf.__version__)\n",
    "\n"
   ]
  },
  {
   "cell_type": "markdown",
   "id": "d1ce16ee",
   "metadata": {},
   "source": [
    "3. Load and Preprocess Data\n",
    "\n",
    "MNIST contains 70,000 grayscale digit images (28x28).\n",
    "\n",
    "Why scale images? Pixel values range from 0–255. Dividing by 255 normalizes them between 0 and 1 for better training.\n",
    "\n",
    "Why small subset? Faster training time and quick experimentation with only 1,000 training and 200 test samples."
   ]
  },
  {
   "cell_type": "code",
   "execution_count": 28,
   "id": "0eec6497",
   "metadata": {},
   "outputs": [],
   "source": [
    "\n",
    "(X_train, y_train), (X_test, y_test) = keras.datasets.mnist.load_data()\n",
    "X_train = X_train[:1000] / 255.0\n",
    "y_train = y_train[:1000]\n",
    "X_test = X_test[:200] / 255.0\n",
    "y_test = y_test[:200]"
   ]
  },
  {
   "cell_type": "markdown",
   "id": "29effcb2",
   "metadata": {},
   "source": [
    "4. Define the Model\n",
    "🧱 This builds a basic neural network:\n",
    "\n",
    "Flatten: Converts 2D image to 1D vector (28x28 → 784)\n",
    "\n",
    "Dense(64, relu): Hidden layer with 64 neurons using ReLU\n",
    "\n",
    "Dense(10, softmax): Output layer with 10 classes (digits 0–9)"
   ]
  },
  {
   "cell_type": "code",
   "execution_count": 29,
   "id": "e3f174b3",
   "metadata": {},
   "outputs": [],
   "source": [
    "model = keras.Sequential([\n",
    "    layers.Flatten(input_shape=(28, 28)),\n",
    "    layers.Dense(64, activation='relu'),\n",
    "    layers.Dense(10, activation='softmax')\n",
    "])\n"
   ]
  },
  {
   "cell_type": "markdown",
   "id": "eee68bb7",
   "metadata": {},
   "source": [
    "5. Compile the Model\n",
    "🛠️ Prepares model for training.\n",
    "\n",
    "Adam: Efficient optimizer\n",
    "\n",
    "Loss: Measures prediction error for multi-class classification\n",
    "\n",
    "Accuracy: To track performance\n",
    "\n"
   ]
  },
  {
   "cell_type": "code",
   "execution_count": 30,
   "id": "3167a804",
   "metadata": {},
   "outputs": [],
   "source": [
    "model.compile(optimizer='adam',\n",
    "              loss='sparse_categorical_crossentropy',\n",
    "              metrics=['accuracy'])\n"
   ]
  },
  {
   "cell_type": "markdown",
   "id": "21d9dec4",
   "metadata": {},
   "source": [
    "6. Train the Model\n",
    "🏋️ Feeds the training data to the model once (1 epoch).\n",
    "\n",
    "One epoch = The model goes through the entire training dataset once.\n",
    "\n",
    "More epochs = More learning opportunities."
   ]
  },
  {
   "cell_type": "code",
   "execution_count": null,
   "id": "955f5369",
   "metadata": {},
   "outputs": [],
   "source": []
  },
  {
   "cell_type": "code",
   "execution_count": 31,
   "id": "13d899a8",
   "metadata": {},
   "outputs": [
    {
     "name": "stdout",
     "output_type": "stream",
     "text": [
      "\u001b[1m32/32\u001b[0m \u001b[32m━━━━━━━━━━━━━━━━━━━━\u001b[0m\u001b[37m\u001b[0m \u001b[1m1s\u001b[0m 3ms/step - accuracy: 0.3588 - loss: 1.9980 \n"
     ]
    },
    {
     "data": {
      "text/plain": [
       "<keras.src.callbacks.history.History at 0x219016d1e20>"
      ]
     },
     "execution_count": 31,
     "metadata": {},
     "output_type": "execute_result"
    }
   ],
   "source": [
    "model.fit(X_train, y_train, epochs=1)"
   ]
  },
  {
   "cell_type": "markdown",
   "id": "12694255",
   "metadata": {},
   "source": [
    "7. Evaluate the Model\n",
    "📊 Tests how well the model performs on unseen data."
   ]
  },
  {
   "cell_type": "code",
   "execution_count": 32,
   "id": "93a5adac",
   "metadata": {},
   "outputs": [
    {
     "name": "stdout",
     "output_type": "stream",
     "text": [
      "\u001b[1m7/7\u001b[0m \u001b[32m━━━━━━━━━━━━━━━━━━━━\u001b[0m\u001b[37m\u001b[0m \u001b[1m0s\u001b[0m 5ms/step - accuracy: 0.6917 - loss: 1.1680 \n"
     ]
    },
    {
     "data": {
      "text/plain": [
       "[1.1907941102981567, 0.6800000071525574]"
      ]
     },
     "execution_count": 32,
     "metadata": {},
     "output_type": "execute_result"
    }
   ],
   "source": [
    "model.evaluate(X_test, y_test)\n"
   ]
  },
  {
   "cell_type": "markdown",
   "id": "3f425f55",
   "metadata": {},
   "source": [
    "My simple model is doing reasonably well with ~79% accuracy on test data with just 1 training epoch and a small dataset, considering  a decent start!\n",
    "\n",
    "The loss value (1.14) suggests there's room for improvement. You can try:\n",
    "\n",
    "Training for more epochs (e.g., 5 or 10)\n",
    "\n",
    "Using more training data (not just 1,000 samples)\n",
    "\n",
    "~ meaning Adding more layers or neurons"
   ]
  }
 ],
 "metadata": {
  "kernelspec": {
   "display_name": "dsi_participant",
   "language": "python",
   "name": "python3"
  },
  "language_info": {
   "codemirror_mode": {
    "name": "ipython",
    "version": 3
   },
   "file_extension": ".py",
   "mimetype": "text/x-python",
   "name": "python",
   "nbconvert_exporter": "python",
   "pygments_lexer": "ipython3",
   "version": "3.9.21"
  }
 },
 "nbformat": 4,
 "nbformat_minor": 5
}
